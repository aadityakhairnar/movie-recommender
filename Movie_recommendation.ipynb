﻿Movie Recommendation System

Code : 
import pandas as pd
import numpy as np
from sklearn.feature_extraction.text import CountVectorizer
from sklearn.metrics.pairwise import cosine_similarity

def get_title_from_index(index):
	return df[df.index == index]["title"].values[0]

def get_index_from_title(title):
	return df[df.title == title]["index"].values[0]

##Step 1: Read CSV File
df = pd.read_csv("movie_dataset.csv")
#print (df.columns)

features = ['keywords','cast','genres','director']

for feature in features:
	df[feature] = df[feature].fillna('')
def combine_features(row):
	try:
		return row['keywords'] + " " + row['cast']+ " "+row["genres"]+" "+row["director"]
	except:
		print("error:",row)

df["combined_features"] = df.apply(combine_features,axis=1)

print (df["combined_features"].head())

vectorizer = CountVectorizer()
matrix = vectorizer.fit_transform(df["combined_features"])

cosine_sim = cosine_similarity(matrix)
movie_user_likes = "Avatar"

movie_index = get_index_from_title(movie_user_likes)

similar_movies = list(enumerate(cosine_sim[movie_index]))
sorted_similar_movies = sorted(similar_movies, key=lambda x:x[1], reverse=True)

i=0
for movie in sorted_similar_movies:
	print (get_title_from_index(movie[0]))
	i=i+1
	if i>50:
		break


Output:

||Serial No.||		||Movie Name||
|| 0 ||               || Avatar ||
|| 1 ||               || Guardians of the Galaxy ||
|| 2 ||               || Aliens ||
|| 3 ||               || Star Wars: Clone Wars: Volume 1 ||
|| 4 ||               || Star Trek Into Darkness ||
|| 5 ||               || Star Trek Beyond ||
|| 6 ||               || Alien ||
|| 7 ||               || Lockout ||
|| 8 ||               || Jason X ||
|| 9 ||               || The Helix... Loaded ||
|| 10 ||               || Moonraker ||
|| 11 ||               || Planet of the Apes ||
|| 12 ||               || Galaxy Quest ||
|| 13 ||               || Gravity ||
|| 14 ||               || Alien³ ||
|| 15 ||               || Jupiter Ascending ||
|| 16 ||               || The Wolverine ||
|| 17 ||               || Silent Running ||
|| 18 ||               || Zathura: A Space Adventure ||
|| 19 ||               || Trekkies ||
|| 20 ||               || Cargo ||
|| 21 ||               || Wing Commander ||
|| 22 ||               || Star Trek ||
|| 23 ||               || Lost in Space ||
|| 24 ||               || Babylon A.D. ||
|| 25 ||               || The Fifth Element ||
|| 26 ||               || Oblivion ||
|| 27 ||               || Titan A.E. ||
|| 28 ||               || AVP: Alien vs. Predator ||
|| 29 ||               || The Empire Strikes Back ||
|| 30 ||               || Dragonball Evolution ||
|| 31 ||               || Superman Returns ||
|| 32 ||               || Divergent ||
|| 33 ||               || John Carter ||
|| 34 ||               || The Black Hole ||
|| 35 ||               || The Ice Pirates ||
|| 36 ||               || Memoirs of an Invisible Man ||
|| 37 ||               || Starship Troopers ||
|| 38 ||               || The Astronaut's Wife ||
|| 39 ||               || Machete Kills ||
|| 40 ||               || Soldier ||
|| 41 ||               || The Abyss ||
|| 42 ||               || Damnation Alley ||
|| 43 ||               || Men in Black ||
|| 44 ||               || Space Cowboys ||
|| 45 ||               || Space Dogs ||
|| 46 ||               || The Time Machine ||
|| 47 ||               || Sheena ||
|| 48 ||               || Captain America: Civil War ||
|| 49 ||               || Star Trek: Insurrection ||
|| 50 ||               || Oz: The Great and Powerful ||
